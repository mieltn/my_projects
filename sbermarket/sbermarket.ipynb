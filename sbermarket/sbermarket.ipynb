{
 "cells": [
  {
   "cell_type": "markdown",
   "id": "cf424862",
   "metadata": {},
   "source": [
    "# SberMarket Competition\n",
    "Having a history of previous orders predict whether an item will be in the next customer basket."
   ]
  },
  {
   "cell_type": "code",
   "execution_count": 1,
   "id": "6ccd3262",
   "metadata": {},
   "outputs": [],
   "source": [
    "import pandas as pd\n",
    "import numpy as np\n",
    "import matplotlib.pyplot as plt"
   ]
  },
  {
   "cell_type": "code",
   "execution_count": 2,
   "id": "93fdfaf3",
   "metadata": {},
   "outputs": [],
   "source": [
    "data = pd.read_csv('train.csv').rename(columns={'cart': 'product_id'})"
   ]
  },
  {
   "cell_type": "code",
   "execution_count": 3,
   "id": "6c9f3174",
   "metadata": {},
   "outputs": [
    {
     "data": {
      "text/html": [
       "<div>\n",
       "<style scoped>\n",
       "    .dataframe tbody tr th:only-of-type {\n",
       "        vertical-align: middle;\n",
       "    }\n",
       "\n",
       "    .dataframe tbody tr th {\n",
       "        vertical-align: top;\n",
       "    }\n",
       "\n",
       "    .dataframe thead th {\n",
       "        text-align: right;\n",
       "    }\n",
       "</style>\n",
       "<table border=\"1\" class=\"dataframe\">\n",
       "  <thead>\n",
       "    <tr style=\"text-align: right;\">\n",
       "      <th></th>\n",
       "      <th>user_id</th>\n",
       "      <th>order_completed_at</th>\n",
       "      <th>product_id</th>\n",
       "    </tr>\n",
       "  </thead>\n",
       "  <tbody>\n",
       "    <tr>\n",
       "      <th>0</th>\n",
       "      <td>2</td>\n",
       "      <td>2015-03-22 09:25:46</td>\n",
       "      <td>399</td>\n",
       "    </tr>\n",
       "    <tr>\n",
       "      <th>1</th>\n",
       "      <td>2</td>\n",
       "      <td>2015-03-22 09:25:46</td>\n",
       "      <td>14</td>\n",
       "    </tr>\n",
       "    <tr>\n",
       "      <th>2</th>\n",
       "      <td>2</td>\n",
       "      <td>2015-03-22 09:25:46</td>\n",
       "      <td>198</td>\n",
       "    </tr>\n",
       "    <tr>\n",
       "      <th>3</th>\n",
       "      <td>2</td>\n",
       "      <td>2015-03-22 09:25:46</td>\n",
       "      <td>88</td>\n",
       "    </tr>\n",
       "    <tr>\n",
       "      <th>4</th>\n",
       "      <td>2</td>\n",
       "      <td>2015-03-22 09:25:46</td>\n",
       "      <td>157</td>\n",
       "    </tr>\n",
       "  </tbody>\n",
       "</table>\n",
       "</div>"
      ],
      "text/plain": [
       "   user_id   order_completed_at  product_id\n",
       "0        2  2015-03-22 09:25:46         399\n",
       "1        2  2015-03-22 09:25:46          14\n",
       "2        2  2015-03-22 09:25:46         198\n",
       "3        2  2015-03-22 09:25:46          88\n",
       "4        2  2015-03-22 09:25:46         157"
      ]
     },
     "execution_count": 3,
     "metadata": {},
     "output_type": "execute_result"
    }
   ],
   "source": [
    "data.head()"
   ]
  },
  {
   "cell_type": "markdown",
   "id": "79d3d59f",
   "metadata": {},
   "source": [
    "## Prepare data and key features\n",
    "- creating order id\n",
    "- parsing dates\n",
    "- creating order df with unique order sets\n",
    "- creating reordered feature\n",
    "- creating days since prior order feature"
   ]
  },
  {
   "cell_type": "markdown",
   "id": "787aff0a",
   "metadata": {},
   "source": [
    "Create order id based on user id and order completetion time."
   ]
  },
  {
   "cell_type": "code",
   "execution_count": 4,
   "id": "1ecbaf9e",
   "metadata": {},
   "outputs": [],
   "source": [
    "data = data.merge(\n",
    "    data\n",
    "    .groupby(['user_id', 'order_completed_at'], as_index=False)\n",
    "    .count()\n",
    "    .loc[:, ['user_id', 'order_completed_at']]\n",
    "    .reset_index()\n",
    "    .rename(columns={'index': 'order_id'}),\n",
    "    how='left',\n",
    "    on=['user_id', 'order_completed_at']\n",
    ").rename(columns={'cart': 'product_id'})"
   ]
  },
  {
   "cell_type": "markdown",
   "id": "72c0fac1",
   "metadata": {},
   "source": [
    "Parse dates."
   ]
  },
  {
   "cell_type": "code",
   "execution_count": 5,
   "id": "1e159d20",
   "metadata": {},
   "outputs": [],
   "source": [
    "data['order_completed_at'] = pd.to_datetime(data.order_completed_at)\n",
    "data['hour_of_order'] = data.order_completed_at.dt.hour\n",
    "data['day_of_order'] = data.order_completed_at.dt.day\n",
    "data['weekday_of_order'] = data.order_completed_at.dt.weekday\n",
    "data['month_of_order'] = data.order_completed_at.dt.month"
   ]
  },
  {
   "cell_type": "markdown",
   "id": "ccffb121",
   "metadata": {},
   "source": [
    "Create orders data frame with a set of categories for each order. Add order number for each user."
   ]
  },
  {
   "cell_type": "code",
   "execution_count": 6,
   "id": "9f6af153",
   "metadata": {},
   "outputs": [],
   "source": [
    "orders = (\n",
    "    data\n",
    "    .groupby(['user_id', 'order_id'], as_index=False)\n",
    "    .agg({'product_id': lambda x: list(set(x))})\n",
    "    .rename(columns={'product_id': 'cart'})\n",
    ")"
   ]
  },
  {
   "cell_type": "markdown",
   "id": "34df0eb3",
   "metadata": {},
   "source": [
    "Mark last orders for each user."
   ]
  },
  {
   "cell_type": "code",
   "execution_count": 8,
   "id": "4ce2ded5",
   "metadata": {},
   "outputs": [],
   "source": [
    "last_orders_by_group = orders.groupby('user_id').nth(-1).order_id\n",
    "\n",
    "last_order_df = pd.DataFrame(\n",
    "    {\n",
    "        'order_id': last_orders_by_group,\n",
    "        'last_order': [True for _ in range(last_orders_by_group.shape[0])]\n",
    "    }\n",
    ")\n",
    "\n",
    "orders = orders.merge(last_order_df, how='left', on='order_id').fillna(False)"
   ]
  },
  {
   "cell_type": "markdown",
   "id": "bf696a5e",
   "metadata": {},
   "source": [
    "Iterate through user groups and check if the item was reordered in the next cart."
   ]
  },
  {
   "cell_type": "code",
   "execution_count": 9,
   "id": "a807c97f",
   "metadata": {},
   "outputs": [],
   "source": [
    "reordered = []\n",
    "\n",
    "for group_name, grouped_df in orders.groupby('user_id'):\n",
    "    for row_idx, row in grouped_df.iterrows():\n",
    "        if not row.last_order:\n",
    "            reordered.extend(\n",
    "                pd.Series(row.cart).isin(grouped_df.loc[row_idx + 1, 'cart']).tolist()\n",
    "            )\n",
    "        else:\n",
    "            reordered.extend([None for _ in row.cart])\n",
    "            \n",
    "data['reordered'] = reordered"
   ]
  },
  {
   "cell_type": "markdown",
   "id": "e807b551",
   "metadata": {},
   "source": [
    "Getting days since prior order for each user."
   ]
  },
  {
   "cell_type": "code",
   "execution_count": 11,
   "id": "3229199b",
   "metadata": {},
   "outputs": [],
   "source": [
    "data = data.merge(\n",
    "    data\n",
    "    .groupby(['user_id', 'order_id'], as_index=False)\n",
    "    .nth(0)\n",
    "    .set_index('order_id')\n",
    "    .groupby('user_id')\n",
    "    .apply(lambda grouped_df: grouped_df.order_completed_at.diff().dt.days)\n",
    "    .reset_index()\n",
    "    .rename(columns={'order_completed_at': 'days_since_prior_order'}),\n",
    "    how='left',\n",
    "    on=['user_id', 'order_id']\n",
    ")"
   ]
  },
  {
   "cell_type": "code",
   "execution_count": 12,
   "id": "ffdb2d60",
   "metadata": {},
   "outputs": [
    {
     "data": {
      "text/html": [
       "<div>\n",
       "<style scoped>\n",
       "    .dataframe tbody tr th:only-of-type {\n",
       "        vertical-align: middle;\n",
       "    }\n",
       "\n",
       "    .dataframe tbody tr th {\n",
       "        vertical-align: top;\n",
       "    }\n",
       "\n",
       "    .dataframe thead th {\n",
       "        text-align: right;\n",
       "    }\n",
       "</style>\n",
       "<table border=\"1\" class=\"dataframe\">\n",
       "  <thead>\n",
       "    <tr style=\"text-align: right;\">\n",
       "      <th></th>\n",
       "      <th>user_id</th>\n",
       "      <th>order_completed_at</th>\n",
       "      <th>product_id</th>\n",
       "      <th>order_id</th>\n",
       "      <th>hour_of_order</th>\n",
       "      <th>day_of_order</th>\n",
       "      <th>weekday_of_order</th>\n",
       "      <th>month_of_order</th>\n",
       "      <th>reordered</th>\n",
       "      <th>days_since_prior_order</th>\n",
       "    </tr>\n",
       "  </thead>\n",
       "  <tbody>\n",
       "    <tr>\n",
       "      <th>0</th>\n",
       "      <td>2</td>\n",
       "      <td>2015-03-22 09:25:46</td>\n",
       "      <td>399</td>\n",
       "      <td>12</td>\n",
       "      <td>9</td>\n",
       "      <td>22</td>\n",
       "      <td>6</td>\n",
       "      <td>3</td>\n",
       "      <td>True</td>\n",
       "      <td>NaN</td>\n",
       "    </tr>\n",
       "    <tr>\n",
       "      <th>1</th>\n",
       "      <td>2</td>\n",
       "      <td>2015-03-22 09:25:46</td>\n",
       "      <td>14</td>\n",
       "      <td>12</td>\n",
       "      <td>9</td>\n",
       "      <td>22</td>\n",
       "      <td>6</td>\n",
       "      <td>3</td>\n",
       "      <td>False</td>\n",
       "      <td>NaN</td>\n",
       "    </tr>\n",
       "    <tr>\n",
       "      <th>2</th>\n",
       "      <td>2</td>\n",
       "      <td>2015-03-22 09:25:46</td>\n",
       "      <td>198</td>\n",
       "      <td>12</td>\n",
       "      <td>9</td>\n",
       "      <td>22</td>\n",
       "      <td>6</td>\n",
       "      <td>3</td>\n",
       "      <td>True</td>\n",
       "      <td>NaN</td>\n",
       "    </tr>\n",
       "    <tr>\n",
       "      <th>3</th>\n",
       "      <td>2</td>\n",
       "      <td>2015-03-22 09:25:46</td>\n",
       "      <td>88</td>\n",
       "      <td>12</td>\n",
       "      <td>9</td>\n",
       "      <td>22</td>\n",
       "      <td>6</td>\n",
       "      <td>3</td>\n",
       "      <td>False</td>\n",
       "      <td>NaN</td>\n",
       "    </tr>\n",
       "    <tr>\n",
       "      <th>4</th>\n",
       "      <td>2</td>\n",
       "      <td>2015-03-22 09:25:46</td>\n",
       "      <td>157</td>\n",
       "      <td>12</td>\n",
       "      <td>9</td>\n",
       "      <td>22</td>\n",
       "      <td>6</td>\n",
       "      <td>3</td>\n",
       "      <td>True</td>\n",
       "      <td>NaN</td>\n",
       "    </tr>\n",
       "  </tbody>\n",
       "</table>\n",
       "</div>"
      ],
      "text/plain": [
       "   user_id  order_completed_at  product_id  order_id  hour_of_order  \\\n",
       "0        2 2015-03-22 09:25:46         399        12              9   \n",
       "1        2 2015-03-22 09:25:46          14        12              9   \n",
       "2        2 2015-03-22 09:25:46         198        12              9   \n",
       "3        2 2015-03-22 09:25:46          88        12              9   \n",
       "4        2 2015-03-22 09:25:46         157        12              9   \n",
       "\n",
       "   day_of_order  weekday_of_order  month_of_order reordered  \\\n",
       "0            22                 6               3      True   \n",
       "1            22                 6               3     False   \n",
       "2            22                 6               3      True   \n",
       "3            22                 6               3     False   \n",
       "4            22                 6               3      True   \n",
       "\n",
       "   days_since_prior_order  \n",
       "0                     NaN  \n",
       "1                     NaN  \n",
       "2                     NaN  \n",
       "3                     NaN  \n",
       "4                     NaN  "
      ]
     },
     "execution_count": 12,
     "metadata": {},
     "output_type": "execute_result"
    }
   ],
   "source": [
    "data.head()"
   ]
  },
  {
   "cell_type": "markdown",
   "id": "eecc9997",
   "metadata": {},
   "source": [
    "## Exploratory Data Analysis"
   ]
  },
  {
   "cell_type": "markdown",
   "id": "828449b7",
   "metadata": {},
   "source": [
    "When do people order?"
   ]
  },
  {
   "cell_type": "code",
   "execution_count": 13,
   "id": "342142d6",
   "metadata": {},
   "outputs": [
    {
     "data": {
      "image/png": "[encoded data removed]",
      "text/plain": [
       "<Figure size 792x504 with 4 Axes>"
      ]
     },
     "metadata": {
      "needs_background": "light"
     },
     "output_type": "display_data"
    }
   ],
   "source": [
    "f, axs = plt.subplots(2, 2, figsize=(11, 7))\n",
    "\n",
    "def plot_time(ax, time_period):\n",
    "    ax.bar(range(data[time_period].nunique()), data[time_period].value_counts().sort_index())\n",
    "    ax.set_title(time_period)\n",
    "    return ax\n",
    "\n",
    "\n",
    "plot_time(axs[0, 0], 'hour_of_order')\n",
    "plot_time(axs[0, 1], 'day_of_order')\n",
    "plot_time(axs[1, 0], 'weekday_of_order')\n",
    "plot_time(axs[1, 1], 'month_of_order')\n",
    "\n",
    "plt.suptitle('Distribution of items added to basket by time variables', fontsize=14)\n",
    "plt.tight_layout()\n",
    "plt.show()"
   ]
  },
  {
   "cell_type": "markdown",
   "id": "f9d8aa93",
   "metadata": {},
   "source": [
    "The most notable differences could be observed on hourly graph. Most orders took place during the daytime, especially before lunch. People tend to order more on weekdays. Month distribution might be severely distorted due to rapid growth of e-grocery during the pandemic."
   ]
  },
  {
   "cell_type": "markdown",
   "id": "683890e9",
   "metadata": {},
   "source": [
    "When do people buy again?"
   ]
  },
  {
   "cell_type": "code",
   "execution_count": 14,
   "id": "2382d668",
   "metadata": {},
   "outputs": [
    {
     "data": {
      "text/plain": [
       "6.0     230379\n",
       "7.0     210188\n",
       "5.0     183056\n",
       "4.0     170410\n",
       "3.0     160071\n",
       "8.0     141878\n",
       "2.0     130033\n",
       "9.0     112581\n",
       "10.0     95543\n",
       "1.0      92595\n",
       "Name: days_since_prior_order, dtype: int64"
      ]
     },
     "execution_count": 14,
     "metadata": {},
     "output_type": "execute_result"
    }
   ],
   "source": [
    "data.days_since_prior_order.value_counts().head(10)"
   ]
  },
  {
   "cell_type": "code",
   "execution_count": 15,
   "id": "6acf7ac7",
   "metadata": {},
   "outputs": [
    {
     "data": {
      "image/png": "[encoded data removed]",
      "text/plain": [
       "<Figure size 432x288 with 1 Axes>"
      ]
     },
     "metadata": {
      "needs_background": "light"
     },
     "output_type": "display_data"
    }
   ],
   "source": [
    "f, ax = plt.subplots()\n",
    "hist_data = data.copy()\n",
    "hist_data.loc[hist_data.days_since_prior_order > 61, :] = 61\n",
    "hist_data.days_since_prior_order.hist(ax=ax, bins=30)\n",
    "ax.set_xlabel('days_since_prior_order')\n",
    "ax.set_title('Distribution of days since prior order')\n",
    "ax.grid(alpha=0.2)\n",
    "plt.show()"
   ]
  },
  {
   "cell_type": "markdown",
   "id": "78e14905",
   "metadata": {},
   "source": [
    "Most of reorders for each user seem to happen approximately in a week."
   ]
  },
  {
   "cell_type": "code",
   "execution_count": 16,
   "id": "16910358",
   "metadata": {},
   "outputs": [
    {
     "data": {
      "image/png": "[encoded data removed]",
      "text/plain": [
       "<Figure size 432x288 with 1 Axes>"
      ]
     },
     "metadata": {
      "needs_background": "light"
     },
     "output_type": "display_data"
    }
   ],
   "source": [
    "f, ax = plt.subplots()\n",
    "\n",
    "(\n",
    "    orders\n",
    "    .groupby('user_id')\n",
    "    .agg({'cart': lambda x: x.str.len().mean()})\n",
    "    .hist(ax=ax, bins=30)\n",
    ")\n",
    "\n",
    "ax.set_xlabel('average cart size')\n",
    "ax.set_title('Distribution of a user average cart size')\n",
    "ax.grid(alpha=0.2)\n",
    "plt.show()"
   ]
  },
  {
   "cell_type": "markdown",
   "id": "3f580574",
   "metadata": {},
   "source": [
    "Most users on average have 10-15 categories in their carts. "
   ]
  },
  {
   "cell_type": "markdown",
   "id": "162daa25",
   "metadata": {},
   "source": [
    "## Feature engineering"
   ]
  },
  {
   "cell_type": "markdown",
   "id": "450373cf",
   "metadata": {},
   "source": [
    "### Products"
   ]
  },
  {
   "cell_type": "code",
   "execution_count": 17,
   "id": "a11811c0",
   "metadata": {},
   "outputs": [],
   "source": [
    "products = (\n",
    "    \n",
    "#     calculate product order time for each user\n",
    "    data\n",
    "    .assign(\n",
    "        product_time = data.groupby(['user_id', 'product_id']).cumcount() + 1\n",
    "    )\n",
    "    \n",
    "#     calculate total product orders, product reorder ratio and product reorder prob\n",
    "#     product average hour, day and weekday of order\n",
    "    .groupby('product_id', as_index=False)\n",
    "    .agg(\n",
    "        product_first_time = ('product_time', lambda x: sum(x == 1)),\n",
    "        product_second_time = ('product_time', lambda x: sum(x == 2)),\n",
    "        total_product_orders = ('order_completed_at', 'count'),\n",
    "        total_product_reorders = ('reordered', sum),\n",
    "        avg_product_hour_of_order = ('hour_of_order', 'mean'),\n",
    "        avg_product_weekday_of_order = ('weekday_of_order', 'mean'),\n",
    "    )\n",
    "    .replace({False: 0})\n",
    "    .assign(\n",
    "        product_reorder_ratio = lambda df: (df.total_product_reorders / df.total_product_orders).astype(float),\n",
    "        product_reorder_prob = lambda df: (df.product_second_time / df.product_first_time).astype(float),\n",
    "        product_reorder_times = lambda df: (1 + df.total_product_reorders / df.product_first_time).astype(float)\n",
    "    )\n",
    "    .drop(['total_product_reorders', 'product_first_time', 'product_second_time'], axis=1)\n",
    ")"
   ]
  },
  {
   "cell_type": "code",
   "execution_count": 18,
   "id": "201897c1",
   "metadata": {},
   "outputs": [
    {
     "data": {
      "text/html": [
       "<div>\n",
       "<style scoped>\n",
       "    .dataframe tbody tr th:only-of-type {\n",
       "        vertical-align: middle;\n",
       "    }\n",
       "\n",
       "    .dataframe tbody tr th {\n",
       "        vertical-align: top;\n",
       "    }\n",
       "\n",
       "    .dataframe thead th {\n",
       "        text-align: right;\n",
       "    }\n",
       "</style>\n",
       "<table border=\"1\" class=\"dataframe\">\n",
       "  <thead>\n",
       "    <tr style=\"text-align: right;\">\n",
       "      <th></th>\n",
       "      <th>product_id</th>\n",
       "      <th>total_product_orders</th>\n",
       "      <th>avg_product_hour_of_order</th>\n",
       "      <th>avg_product_weekday_of_order</th>\n",
       "      <th>product_reorder_ratio</th>\n",
       "      <th>product_reorder_prob</th>\n",
       "      <th>product_reorder_times</th>\n",
       "    </tr>\n",
       "  </thead>\n",
       "  <tbody>\n",
       "    <tr>\n",
       "      <th>0</th>\n",
       "      <td>0</td>\n",
       "      <td>18387</td>\n",
       "      <td>11.654158</td>\n",
       "      <td>2.854734</td>\n",
       "      <td>0.321586</td>\n",
       "      <td>0.470406</td>\n",
       "      <td>1.732169</td>\n",
       "    </tr>\n",
       "    <tr>\n",
       "      <th>1</th>\n",
       "      <td>1</td>\n",
       "      <td>357</td>\n",
       "      <td>11.890756</td>\n",
       "      <td>3.030812</td>\n",
       "      <td>0.366947</td>\n",
       "      <td>0.276498</td>\n",
       "      <td>1.603687</td>\n",
       "    </tr>\n",
       "    <tr>\n",
       "      <th>2</th>\n",
       "      <td>2</td>\n",
       "      <td>30</td>\n",
       "      <td>10.333333</td>\n",
       "      <td>3.333333</td>\n",
       "      <td>0.333333</td>\n",
       "      <td>0.160000</td>\n",
       "      <td>1.400000</td>\n",
       "    </tr>\n",
       "    <tr>\n",
       "      <th>3</th>\n",
       "      <td>3</td>\n",
       "      <td>1</td>\n",
       "      <td>8.000000</td>\n",
       "      <td>6.000000</td>\n",
       "      <td>0.000000</td>\n",
       "      <td>0.000000</td>\n",
       "      <td>1.000000</td>\n",
       "    </tr>\n",
       "    <tr>\n",
       "      <th>4</th>\n",
       "      <td>4</td>\n",
       "      <td>219</td>\n",
       "      <td>11.835616</td>\n",
       "      <td>2.767123</td>\n",
       "      <td>0.301370</td>\n",
       "      <td>0.115789</td>\n",
       "      <td>1.347368</td>\n",
       "    </tr>\n",
       "  </tbody>\n",
       "</table>\n",
       "</div>"
      ],
      "text/plain": [
       "   product_id  total_product_orders  avg_product_hour_of_order  \\\n",
       "0           0                 18387                  11.654158   \n",
       "1           1                   357                  11.890756   \n",
       "2           2                    30                  10.333333   \n",
       "3           3                     1                   8.000000   \n",
       "4           4                   219                  11.835616   \n",
       "\n",
       "   avg_product_weekday_of_order  product_reorder_ratio  product_reorder_prob  \\\n",
       "0                      2.854734               0.321586              0.470406   \n",
       "1                      3.030812               0.366947              0.276498   \n",
       "2                      3.333333               0.333333              0.160000   \n",
       "3                      6.000000               0.000000              0.000000   \n",
       "4                      2.767123               0.301370              0.115789   \n",
       "\n",
       "   product_reorder_times  \n",
       "0               1.732169  \n",
       "1               1.603687  \n",
       "2               1.400000  \n",
       "3               1.000000  \n",
       "4               1.347368  "
      ]
     },
     "execution_count": 18,
     "metadata": {},
     "output_type": "execute_result"
    }
   ],
   "source": [
    "products.head()"
   ]
  },
  {
   "cell_type": "markdown",
   "id": "314fad53",
   "metadata": {},
   "source": [
    "### Users"
   ]
  },
  {
   "cell_type": "code",
   "execution_count": 19,
   "id": "bcaf2b45",
   "metadata": {},
   "outputs": [],
   "source": [
    "users = (\n",
    "    \n",
    "#     adding user days since prior order and total days customer uses service\n",
    "#     adding number of reordered items normalized on total user products, distinct products\n",
    "    data\n",
    "    .groupby('user_id', as_index=False)\n",
    "    .agg(\n",
    "        user_avg_days_spo = ('days_since_prior_order', 'mean'),\n",
    "        user_reordered = ('reordered', sum),\n",
    "        total_user_products = ('product_id', 'count'),\n",
    "        user_distinct_products = ('product_id', lambda x: x.nunique()),\n",
    "        avg_user_hour_of_order = ('hour_of_order', 'mean'),\n",
    "        avg_user_weekday_of_order = ('weekday_of_order', 'mean'),\n",
    "    )\n",
    "    \n",
    "#     adding total_user_days\n",
    "    .merge(\n",
    "        data\n",
    "        .groupby(['user_id', 'order_id'], as_index=False)\n",
    "        .nth(0)\n",
    "        .groupby('user_id')\n",
    "        .agg(user_total_days = ('days_since_prior_order', sum)),\n",
    "        on='user_id',\n",
    "        how='left'\n",
    "    )\n",
    "    \n",
    "#     adding user total orders\n",
    "    .merge(\n",
    "        orders\n",
    "        .groupby('user_id', as_index=False)\n",
    "        .size(),\n",
    "        on='user_id',\n",
    "        how='left'\n",
    "    )\n",
    "    .rename(columns={'size': 'total_user_orders'})\n",
    "    \n",
    "#     calculating user reorder ratio, adding user average cart size\n",
    "    .assign(\n",
    "        user_reordered_ratio = lambda df: (df.user_reordered / df.total_user_products).astype(float),\n",
    "        user_avg_cart_size = lambda df: df.total_user_products / df.total_user_orders\n",
    "    )\n",
    "    .drop('user_reordered', axis=1)\n",
    ")"
   ]
  },
  {
   "cell_type": "code",
   "execution_count": 20,
   "id": "a42e000b",
   "metadata": {},
   "outputs": [
    {
     "data": {
      "text/html": [
       "<div>\n",
       "<style scoped>\n",
       "    .dataframe tbody tr th:only-of-type {\n",
       "        vertical-align: middle;\n",
       "    }\n",
       "\n",
       "    .dataframe tbody tr th {\n",
       "        vertical-align: top;\n",
       "    }\n",
       "\n",
       "    .dataframe thead th {\n",
       "        text-align: right;\n",
       "    }\n",
       "</style>\n",
       "<table border=\"1\" class=\"dataframe\">\n",
       "  <thead>\n",
       "    <tr style=\"text-align: right;\">\n",
       "      <th></th>\n",
       "      <th>user_id</th>\n",
       "      <th>user_avg_days_spo</th>\n",
       "      <th>total_user_products</th>\n",
       "      <th>user_distinct_products</th>\n",
       "      <th>avg_user_hour_of_order</th>\n",
       "      <th>avg_user_weekday_of_order</th>\n",
       "      <th>user_total_days</th>\n",
       "      <th>total_user_orders</th>\n",
       "      <th>user_reordered_ratio</th>\n",
       "      <th>user_avg_cart_size</th>\n",
       "    </tr>\n",
       "  </thead>\n",
       "  <tbody>\n",
       "    <tr>\n",
       "      <th>0</th>\n",
       "      <td>0</td>\n",
       "      <td>26.750000</td>\n",
       "      <td>44</td>\n",
       "      <td>36</td>\n",
       "      <td>7.931818</td>\n",
       "      <td>1.590909</td>\n",
       "      <td>43.0</td>\n",
       "      <td>3</td>\n",
       "      <td>0.295455</td>\n",
       "      <td>14.666667</td>\n",
       "    </tr>\n",
       "    <tr>\n",
       "      <th>1</th>\n",
       "      <td>1</td>\n",
       "      <td>67.583333</td>\n",
       "      <td>37</td>\n",
       "      <td>20</td>\n",
       "      <td>11.567568</td>\n",
       "      <td>2.648649</td>\n",
       "      <td>427.0</td>\n",
       "      <td>9</td>\n",
       "      <td>0.378378</td>\n",
       "      <td>4.111111</td>\n",
       "    </tr>\n",
       "    <tr>\n",
       "      <th>2</th>\n",
       "      <td>2</td>\n",
       "      <td>206.519231</td>\n",
       "      <td>172</td>\n",
       "      <td>74</td>\n",
       "      <td>15.796512</td>\n",
       "      <td>3.767442</td>\n",
       "      <td>1909.0</td>\n",
       "      <td>15</td>\n",
       "      <td>0.331395</td>\n",
       "      <td>11.466667</td>\n",
       "    </tr>\n",
       "    <tr>\n",
       "      <th>3</th>\n",
       "      <td>3</td>\n",
       "      <td>601.918033</td>\n",
       "      <td>62</td>\n",
       "      <td>38</td>\n",
       "      <td>12.322581</td>\n",
       "      <td>4.161290</td>\n",
       "      <td>1829.0</td>\n",
       "      <td>7</td>\n",
       "      <td>0.274194</td>\n",
       "      <td>8.857143</td>\n",
       "    </tr>\n",
       "    <tr>\n",
       "      <th>4</th>\n",
       "      <td>4</td>\n",
       "      <td>268.381818</td>\n",
       "      <td>112</td>\n",
       "      <td>50</td>\n",
       "      <td>10.491071</td>\n",
       "      <td>3.803571</td>\n",
       "      <td>1874.0</td>\n",
       "      <td>8</td>\n",
       "      <td>0.312500</td>\n",
       "      <td>14.000000</td>\n",
       "    </tr>\n",
       "  </tbody>\n",
       "</table>\n",
       "</div>"
      ],
      "text/plain": [
       "   user_id  user_avg_days_spo  total_user_products  user_distinct_products  \\\n",
       "0        0          26.750000                   44                      36   \n",
       "1        1          67.583333                   37                      20   \n",
       "2        2         206.519231                  172                      74   \n",
       "3        3         601.918033                   62                      38   \n",
       "4        4         268.381818                  112                      50   \n",
       "\n",
       "   avg_user_hour_of_order  avg_user_weekday_of_order  user_total_days  \\\n",
       "0                7.931818                   1.590909             43.0   \n",
       "1               11.567568                   2.648649            427.0   \n",
       "2               15.796512                   3.767442           1909.0   \n",
       "3               12.322581                   4.161290           1829.0   \n",
       "4               10.491071                   3.803571           1874.0   \n",
       "\n",
       "   total_user_orders  user_reordered_ratio  user_avg_cart_size  \n",
       "0                  3              0.295455           14.666667  \n",
       "1                  9              0.378378            4.111111  \n",
       "2                 15              0.331395           11.466667  \n",
       "3                  7              0.274194            8.857143  \n",
       "4                  8              0.312500           14.000000  "
      ]
     },
     "execution_count": 20,
     "metadata": {},
     "output_type": "execute_result"
    }
   ],
   "source": [
    "users.head()"
   ]
  },
  {
   "cell_type": "markdown",
   "id": "2dedfb29",
   "metadata": {},
   "source": [
    "### User-Product"
   ]
  },
  {
   "cell_type": "code",
   "execution_count": 21,
   "id": "a5b61178",
   "metadata": {},
   "outputs": [],
   "source": [
    "user_product = (\n",
    "    \n",
    "#     creating user-product df and adding total orders of product by user\n",
    "    data\n",
    "    .groupby(['user_id', 'product_id'], as_index=False)\n",
    "    .agg(\n",
    "        user_product_total_orders = ('order_id', 'count'),\n",
    "    )\n",
    "    \n",
    "#     adding users features\n",
    "    .merge(\n",
    "        users, how='left', on='user_id'\n",
    "    )\n",
    "    \n",
    "#     adding products features\n",
    "    .merge(\n",
    "        products, how='left', on='product_id'\n",
    "    )\n",
    "    \n",
    "#     adding rates for user-product\n",
    "    .assign(\n",
    "        up_order_rate = lambda df: df.user_product_total_orders / df.total_user_orders,\n",
    "    )\n",
    "    \n",
    "#     adding target - in last cart - whether product was included in the last user's order\n",
    "    .merge(\n",
    "        orders\n",
    "        .loc[orders.last_order == True, ['user_id', 'cart']],\n",
    "        how='left',\n",
    "        on='user_id'\n",
    "    )\n",
    "    .assign(\n",
    "        in_last_cart = lambda df: df.apply(lambda row: row.product_id in row.cart, axis=1)\n",
    "    )\n",
    "    \n",
    "#     dropping assisting columns \n",
    "    .drop(['cart'], axis=1)\n",
    ")"
   ]
  },
  {
   "cell_type": "code",
   "execution_count": 22,
   "id": "5df239e5",
   "metadata": {},
   "outputs": [
    {
     "data": {
      "text/html": [
       "<div>\n",
       "<style scoped>\n",
       "    .dataframe tbody tr th:only-of-type {\n",
       "        vertical-align: middle;\n",
       "    }\n",
       "\n",
       "    .dataframe tbody tr th {\n",
       "        vertical-align: top;\n",
       "    }\n",
       "\n",
       "    .dataframe thead th {\n",
       "        text-align: right;\n",
       "    }\n",
       "</style>\n",
       "<table border=\"1\" class=\"dataframe\">\n",
       "  <thead>\n",
       "    <tr style=\"text-align: right;\">\n",
       "      <th></th>\n",
       "      <th>user_id</th>\n",
       "      <th>product_id</th>\n",
       "      <th>user_product_total_orders</th>\n",
       "      <th>user_avg_days_spo</th>\n",
       "      <th>total_user_products</th>\n",
       "      <th>user_distinct_products</th>\n",
       "      <th>avg_user_hour_of_order</th>\n",
       "      <th>avg_user_weekday_of_order</th>\n",
       "      <th>user_total_days</th>\n",
       "      <th>total_user_orders</th>\n",
       "      <th>user_reordered_ratio</th>\n",
       "      <th>user_avg_cart_size</th>\n",
       "      <th>total_product_orders</th>\n",
       "      <th>avg_product_hour_of_order</th>\n",
       "      <th>avg_product_weekday_of_order</th>\n",
       "      <th>product_reorder_ratio</th>\n",
       "      <th>product_reorder_prob</th>\n",
       "      <th>product_reorder_times</th>\n",
       "      <th>up_order_rate</th>\n",
       "      <th>in_last_cart</th>\n",
       "    </tr>\n",
       "  </thead>\n",
       "  <tbody>\n",
       "    <tr>\n",
       "      <th>0</th>\n",
       "      <td>0</td>\n",
       "      <td>5</td>\n",
       "      <td>1</td>\n",
       "      <td>26.75</td>\n",
       "      <td>44</td>\n",
       "      <td>36</td>\n",
       "      <td>7.931818</td>\n",
       "      <td>1.590909</td>\n",
       "      <td>43.0</td>\n",
       "      <td>3</td>\n",
       "      <td>0.295455</td>\n",
       "      <td>14.666667</td>\n",
       "      <td>30753</td>\n",
       "      <td>11.633629</td>\n",
       "      <td>2.804734</td>\n",
       "      <td>0.322212</td>\n",
       "      <td>0.551821</td>\n",
       "      <td>1.841100</td>\n",
       "      <td>0.333333</td>\n",
       "      <td>False</td>\n",
       "    </tr>\n",
       "    <tr>\n",
       "      <th>1</th>\n",
       "      <td>0</td>\n",
       "      <td>10</td>\n",
       "      <td>1</td>\n",
       "      <td>26.75</td>\n",
       "      <td>44</td>\n",
       "      <td>36</td>\n",
       "      <td>7.931818</td>\n",
       "      <td>1.590909</td>\n",
       "      <td>43.0</td>\n",
       "      <td>3</td>\n",
       "      <td>0.295455</td>\n",
       "      <td>14.666667</td>\n",
       "      <td>14579</td>\n",
       "      <td>11.617052</td>\n",
       "      <td>2.837918</td>\n",
       "      <td>0.326223</td>\n",
       "      <td>0.497448</td>\n",
       "      <td>1.898885</td>\n",
       "      <td>0.333333</td>\n",
       "      <td>False</td>\n",
       "    </tr>\n",
       "    <tr>\n",
       "      <th>2</th>\n",
       "      <td>0</td>\n",
       "      <td>14</td>\n",
       "      <td>2</td>\n",
       "      <td>26.75</td>\n",
       "      <td>44</td>\n",
       "      <td>36</td>\n",
       "      <td>7.931818</td>\n",
       "      <td>1.590909</td>\n",
       "      <td>43.0</td>\n",
       "      <td>3</td>\n",
       "      <td>0.295455</td>\n",
       "      <td>14.666667</td>\n",
       "      <td>93957</td>\n",
       "      <td>11.344051</td>\n",
       "      <td>2.854976</td>\n",
       "      <td>0.322115</td>\n",
       "      <td>0.813868</td>\n",
       "      <td>2.887198</td>\n",
       "      <td>0.666667</td>\n",
       "      <td>False</td>\n",
       "    </tr>\n",
       "    <tr>\n",
       "      <th>3</th>\n",
       "      <td>0</td>\n",
       "      <td>20</td>\n",
       "      <td>1</td>\n",
       "      <td>26.75</td>\n",
       "      <td>44</td>\n",
       "      <td>36</td>\n",
       "      <td>7.931818</td>\n",
       "      <td>1.590909</td>\n",
       "      <td>43.0</td>\n",
       "      <td>3</td>\n",
       "      <td>0.295455</td>\n",
       "      <td>14.666667</td>\n",
       "      <td>15333</td>\n",
       "      <td>11.563491</td>\n",
       "      <td>2.822344</td>\n",
       "      <td>0.323746</td>\n",
       "      <td>0.471192</td>\n",
       "      <td>1.748718</td>\n",
       "      <td>0.333333</td>\n",
       "      <td>False</td>\n",
       "    </tr>\n",
       "    <tr>\n",
       "      <th>4</th>\n",
       "      <td>0</td>\n",
       "      <td>22</td>\n",
       "      <td>1</td>\n",
       "      <td>26.75</td>\n",
       "      <td>44</td>\n",
       "      <td>36</td>\n",
       "      <td>7.931818</td>\n",
       "      <td>1.590909</td>\n",
       "      <td>43.0</td>\n",
       "      <td>3</td>\n",
       "      <td>0.295455</td>\n",
       "      <td>14.666667</td>\n",
       "      <td>68478</td>\n",
       "      <td>11.504702</td>\n",
       "      <td>2.856494</td>\n",
       "      <td>0.319986</td>\n",
       "      <td>0.750412</td>\n",
       "      <td>2.506186</td>\n",
       "      <td>0.333333</td>\n",
       "      <td>False</td>\n",
       "    </tr>\n",
       "  </tbody>\n",
       "</table>\n",
       "</div>"
      ],
      "text/plain": [
       "   user_id  product_id  user_product_total_orders  user_avg_days_spo  \\\n",
       "0        0           5                          1              26.75   \n",
       "1        0          10                          1              26.75   \n",
       "2        0          14                          2              26.75   \n",
       "3        0          20                          1              26.75   \n",
       "4        0          22                          1              26.75   \n",
       "\n",
       "   total_user_products  user_distinct_products  avg_user_hour_of_order  \\\n",
       "0                   44                      36                7.931818   \n",
       "1                   44                      36                7.931818   \n",
       "2                   44                      36                7.931818   \n",
       "3                   44                      36                7.931818   \n",
       "4                   44                      36                7.931818   \n",
       "\n",
       "   avg_user_weekday_of_order  user_total_days  total_user_orders  \\\n",
       "0                   1.590909             43.0                  3   \n",
       "1                   1.590909             43.0                  3   \n",
       "2                   1.590909             43.0                  3   \n",
       "3                   1.590909             43.0                  3   \n",
       "4                   1.590909             43.0                  3   \n",
       "\n",
       "   user_reordered_ratio  user_avg_cart_size  total_product_orders  \\\n",
       "0              0.295455           14.666667                 30753   \n",
       "1              0.295455           14.666667                 14579   \n",
       "2              0.295455           14.666667                 93957   \n",
       "3              0.295455           14.666667                 15333   \n",
       "4              0.295455           14.666667                 68478   \n",
       "\n",
       "   avg_product_hour_of_order  avg_product_weekday_of_order  \\\n",
       "0                  11.633629                      2.804734   \n",
       "1                  11.617052                      2.837918   \n",
       "2                  11.344051                      2.854976   \n",
       "3                  11.563491                      2.822344   \n",
       "4                  11.504702                      2.856494   \n",
       "\n",
       "   product_reorder_ratio  product_reorder_prob  product_reorder_times  \\\n",
       "0               0.322212              0.551821               1.841100   \n",
       "1               0.326223              0.497448               1.898885   \n",
       "2               0.322115              0.813868               2.887198   \n",
       "3               0.323746              0.471192               1.748718   \n",
       "4               0.319986              0.750412               2.506186   \n",
       "\n",
       "   up_order_rate  in_last_cart  \n",
       "0       0.333333         False  \n",
       "1       0.333333         False  \n",
       "2       0.666667         False  \n",
       "3       0.333333         False  \n",
       "4       0.333333         False  "
      ]
     },
     "execution_count": 22,
     "metadata": {},
     "output_type": "execute_result"
    }
   ],
   "source": [
    "user_product.head()"
   ]
  },
  {
   "cell_type": "code",
   "execution_count": 23,
   "id": "71d894d3",
   "metadata": {},
   "outputs": [
    {
     "data": {
      "text/plain": [
       "False    836523\n",
       "True     281077\n",
       "Name: in_last_cart, dtype: int64"
      ]
     },
     "execution_count": 23,
     "metadata": {},
     "output_type": "execute_result"
    }
   ],
   "source": [
    "user_product.in_last_cart.value_counts()"
   ]
  },
  {
   "cell_type": "markdown",
   "id": "d5c5242f",
   "metadata": {},
   "source": [
    "Mention unbalanced classes, we'll have to deal with it later."
   ]
  },
  {
   "cell_type": "markdown",
   "id": "db5b9dc9",
   "metadata": {},
   "source": [
    "## Model\n",
    "Features are all numeric, so we don't need encoding, but scaling might be useful for regression. We will train balanced logistic regression."
   ]
  },
  {
   "cell_type": "code",
   "execution_count": 39,
   "id": "cc455764",
   "metadata": {},
   "outputs": [],
   "source": [
    "from sklearn.model_selection import train_test_split\n",
    "from sklearn.preprocessing import StandardScaler\n",
    "from sklearn.pipeline import Pipeline\n",
    "from sklearn.linear_model import LogisticRegression\n",
    "from sklearn.tree import DecisionTreeClassifier\n",
    "from sklearn.ensemble import RandomForestClassifier\n",
    "import lightgbm as lgb"
   ]
  },
  {
   "cell_type": "code",
   "execution_count": 25,
   "id": "9ba905d2",
   "metadata": {},
   "outputs": [
    {
     "data": {
      "text/html": [
       "<div>\n",
       "<style scoped>\n",
       "    .dataframe tbody tr th:only-of-type {\n",
       "        vertical-align: middle;\n",
       "    }\n",
       "\n",
       "    .dataframe tbody tr th {\n",
       "        vertical-align: top;\n",
       "    }\n",
       "\n",
       "    .dataframe thead th {\n",
       "        text-align: right;\n",
       "    }\n",
       "</style>\n",
       "<table border=\"1\" class=\"dataframe\">\n",
       "  <thead>\n",
       "    <tr style=\"text-align: right;\">\n",
       "      <th></th>\n",
       "      <th>target</th>\n",
       "      <th>user_id</th>\n",
       "      <th>product_id</th>\n",
       "    </tr>\n",
       "  </thead>\n",
       "  <tbody>\n",
       "    <tr>\n",
       "      <th>0</th>\n",
       "      <td>0</td>\n",
       "      <td>0</td>\n",
       "      <td>133</td>\n",
       "    </tr>\n",
       "    <tr>\n",
       "      <th>1</th>\n",
       "      <td>1</td>\n",
       "      <td>0</td>\n",
       "      <td>5</td>\n",
       "    </tr>\n",
       "    <tr>\n",
       "      <th>2</th>\n",
       "      <td>0</td>\n",
       "      <td>0</td>\n",
       "      <td>10</td>\n",
       "    </tr>\n",
       "    <tr>\n",
       "      <th>3</th>\n",
       "      <td>1</td>\n",
       "      <td>0</td>\n",
       "      <td>396</td>\n",
       "    </tr>\n",
       "    <tr>\n",
       "      <th>4</th>\n",
       "      <td>0</td>\n",
       "      <td>0</td>\n",
       "      <td>14</td>\n",
       "    </tr>\n",
       "  </tbody>\n",
       "</table>\n",
       "</div>"
      ],
      "text/plain": [
       "   target user_id product_id\n",
       "0       0       0        133\n",
       "1       1       0          5\n",
       "2       0       0         10\n",
       "3       1       0        396\n",
       "4       0       0         14"
      ]
     },
     "execution_count": 25,
     "metadata": {},
     "output_type": "execute_result"
    }
   ],
   "source": [
    "sample_sub = pd.read_csv('sample_submission.csv')\n",
    "sample_sub[['user_id','product_id']] = sample_sub['id'].str.split(';', expand=True)\n",
    "sample_sub.drop('id', axis=1, inplace=True)\n",
    "sample_sub.head()"
   ]
  },
  {
   "cell_type": "code",
   "execution_count": 26,
   "id": "1bb015f0",
   "metadata": {},
   "outputs": [],
   "source": [
    "train_df = user_product.query('~user_id.isin(@sample_sub.user_id.unique().astype(\"int\"))')\n",
    "X = train_df.drop(['user_id', 'product_id', 'in_last_cart'], axis=1)\n",
    "y = train_df.in_last_cart.astype(int)"
   ]
  },
  {
   "cell_type": "code",
   "execution_count": 28,
   "id": "630a6427",
   "metadata": {},
   "outputs": [],
   "source": [
    "test_df = user_product.query('user_id.isin(@sample_sub.user_id.unique().astype(\"int\"))')\n",
    "X_test = test_df.drop(['user_id', 'product_id', 'in_last_cart'], axis=1)\n",
    "y_test = test_df.in_last_cart.astype(int)"
   ]
  },
  {
   "cell_type": "code",
   "execution_count": 29,
   "id": "2efbb0fe",
   "metadata": {},
   "outputs": [],
   "source": [
    "X_train, X_valid, y_train, y_valid = train_test_split(X, y)"
   ]
  },
  {
   "cell_type": "code",
   "execution_count": 286,
   "id": "1aecb91c",
   "metadata": {},
   "outputs": [
    {
     "data": {
      "text/plain": [
       "0.6957377610407395"
      ]
     },
     "execution_count": 286,
     "metadata": {},
     "output_type": "execute_result"
    }
   ],
   "source": [
    "logreg_pipe = Pipeline(\n",
    "    [\n",
    "        ('scaler', StandardScaler()),\n",
    "        ('logreg', LogisticRegression(class_weight='balanced'))\n",
    "    ]\n",
    ")\n",
    "\n",
    "logreg_pipe.fit(X_train, y_train)\n",
    "logreg_pipe.score(X_valid, y_valid)"
   ]
  },
  {
   "cell_type": "code",
   "execution_count": 295,
   "id": "bd48f653",
   "metadata": {},
   "outputs": [
    {
     "data": {
      "text/plain": [
       "0.7033183352080989"
      ]
     },
     "execution_count": 295,
     "metadata": {},
     "output_type": "execute_result"
    }
   ],
   "source": [
    "tree = DecisionTreeClassifier(class_weight='balanced', max_depth=7)\n",
    "tree.fit(X_train, y_train)\n",
    "tree.score(X_valid, y_valid)"
   ]
  },
  {
   "cell_type": "code",
   "execution_count": 48,
   "id": "88754ac9",
   "metadata": {},
   "outputs": [
    {
     "data": {
      "text/plain": [
       "0.7714701423191667"
      ]
     },
     "execution_count": 48,
     "metadata": {},
     "output_type": "execute_result"
    }
   ],
   "source": [
    "rf = RandomForestClassifier(class_weight='balanced')\n",
    "rf.fit(X_train, y_train)\n",
    "rf.score(X_valid, y_valid)"
   ]
  },
  {
   "cell_type": "code",
   "execution_count": 55,
   "id": "e7d38b7e",
   "metadata": {},
   "outputs": [
    {
     "data": {
      "text/plain": [
       "0.7176358389983861"
      ]
     },
     "execution_count": 55,
     "metadata": {},
     "output_type": "execute_result"
    }
   ],
   "source": [
    "lgbm = lgb.LGBMClassifier(num_leaves=100, max_depth=10, is_unbalance=True)\n",
    "lgbm.fit(X_train, y_train)\n",
    "lgbm.score(X_valid, y_valid)"
   ]
  },
  {
   "cell_type": "code",
   "execution_count": 71,
   "id": "73ea0ca8",
   "metadata": {},
   "outputs": [
    {
     "data": {
      "image/png": "[encoded data removed]",
      "text/plain": [
       "<Figure size 432x288 with 1 Axes>"
      ]
     },
     "metadata": {
      "needs_background": "light"
     },
     "output_type": "display_data"
    }
   ],
   "source": [
    "lgb.plot_importance(lgbm)\n",
    "plt.show()"
   ]
  },
  {
   "cell_type": "markdown",
   "id": "221d468d",
   "metadata": {},
   "source": [
    "From feature importances we can get insight, that one of the more important features - are user-related ones, especially - connected with time. Product characteristics play less role."
   ]
  },
  {
   "cell_type": "markdown",
   "id": "acc57bbc",
   "metadata": {},
   "source": [
    "## Validation"
   ]
  },
  {
   "cell_type": "code",
   "execution_count": 52,
   "id": "1d32d17b",
   "metadata": {},
   "outputs": [],
   "source": [
    "from sklearn.metrics import accuracy_score, precision_score, recall_score, f1_score, roc_auc_score"
   ]
  },
  {
   "cell_type": "code",
   "execution_count": 53,
   "id": "413a0d2a",
   "metadata": {},
   "outputs": [],
   "source": [
    "def valid_metrics(y_test, y_pred):\n",
    "    print(f'Accuracy score: {accuracy_score(y_test, y_pred).round(3)}')\n",
    "    print(f'Precision score: {precision_score(y_test, y_pred).round(3)}')    \n",
    "    print(f'Recall score: {recall_score(y_test, y_pred).round(3)}')    \n",
    "    print(f'F1 score: {f1_score(y_test, y_pred).round(3)}')\n",
    "    print(f'Roc Auc score: {roc_auc_score(y_test, y_pred).round(3)}')"
   ]
  },
  {
   "cell_type": "code",
   "execution_count": 296,
   "id": "459d1665",
   "metadata": {},
   "outputs": [
    {
     "name": "stdout",
     "output_type": "stream",
     "text": [
      "Accuracy score: 0.773\n",
      "Precision score: 0.518\n",
      "Recall score: 0.576\n",
      "F1 score: 0.545\n",
      "Roc Auc score: 0.705\n"
     ]
    }
   ],
   "source": [
    "logreg_pred = logreg_pipe.predict(X_test)\n",
    "valid_metrics(y_test, logreg_pred)"
   ]
  },
  {
   "cell_type": "code",
   "execution_count": 297,
   "id": "77d847de",
   "metadata": {},
   "outputs": [
    {
     "name": "stdout",
     "output_type": "stream",
     "text": [
      "Accuracy score: 0.773\n",
      "Precision score: 0.518\n",
      "Recall score: 0.566\n",
      "F1 score: 0.541\n",
      "Roc Auc score: 0.702\n"
     ]
    }
   ],
   "source": [
    "tree_pred = tree.predict(X_test)\n",
    "valid_metrics(y_test, tree_pred)"
   ]
  },
  {
   "cell_type": "code",
   "execution_count": 301,
   "id": "41856749",
   "metadata": {},
   "outputs": [
    {
     "name": "stdout",
     "output_type": "stream",
     "text": [
      "Accuracy score: 0.803\n",
      "Precision score: 0.696\n",
      "Recall score: 0.295\n",
      "F1 score: 0.415\n",
      "Roc Auc score: 0.628\n"
     ]
    }
   ],
   "source": [
    "rf_pred = rf.predict(X_test)\n",
    "valid_metrics(y_test, rf_pred)"
   ]
  },
  {
   "cell_type": "code",
   "execution_count": 67,
   "id": "806346dd",
   "metadata": {},
   "outputs": [
    {
     "name": "stdout",
     "output_type": "stream",
     "text": [
      "Accuracy score: 0.77\n",
      "Precision score: 0.512\n",
      "Recall score: 0.575\n",
      "F1 score: 0.542\n",
      "Roc Auc score: 0.703\n"
     ]
    }
   ],
   "source": [
    "lgbm_pred = lgbm.predict(X_test)\n",
    "valid_metrics(y_test, lgbm_pred)"
   ]
  },
  {
   "cell_type": "markdown",
   "id": "35a3d1b4",
   "metadata": {},
   "source": [
    "## Predicting and submitting"
   ]
  },
  {
   "cell_type": "code",
   "execution_count": 45,
   "id": "9bb73c57",
   "metadata": {},
   "outputs": [],
   "source": [
    "sub = (\n",
    "    sample_sub\n",
    "    .assign(\n",
    "        target = lgbm_pred,\n",
    "        id = sample_sub.user_id + ';' + sample_sub.product_id\n",
    "    )\n",
    "    .drop(['user_id', 'product_id'], axis=1)\n",
    ")"
   ]
  },
  {
   "cell_type": "code",
   "execution_count": 46,
   "id": "a57dab24",
   "metadata": {},
   "outputs": [],
   "source": [
    "sub.to_csv('tuned_lgbm_sub.csv', index=False)"
   ]
  },
  {
   "cell_type": "markdown",
   "id": "e16ab9c3",
   "metadata": {},
   "source": [
    "## After all"
   ]
  },
  {
   "cell_type": "markdown",
   "id": "d7a29731",
   "metadata": {},
   "source": [
    "I also tried out a number of ideas that didn't seemed to work out.\n",
    "1. Assuming, that the order categories are presented in the data, is the order they were added to the cart, feature <i>add to cart order</i> was created.\n",
    "2. Extra averages for user and product day of month, month.\n",
    "3. Add order number for each user and create feature <i>user product orders since last order</i>, but it seemed to be data leakage problem, sincee  classifier always returned 1.0 score.\n",
    "4. Run k-means clustering on users dataset to use customer segments as an extra featue. The problem was, that Within Cluster Sum of Squares curve was very smooth and it seemed like no obvious solution for choosing optimal number of clusters. Anyway, didn't increase final performance."
   ]
  },
  {
   "cell_type": "code",
   "execution_count": null,
   "id": "34ff185f",
   "metadata": {},
   "outputs": [],
   "source": []
  }
 ],
 "metadata": {
  "kernelspec": {
   "display_name": "Python 3 (ipykernel)",
   "language": "python",
   "name": "python3"
  },
  "language_info": {
   "codemirror_mode": {
    "name": "ipython",
    "version": 3
   },
   "file_extension": ".py",
   "mimetype": "text/x-python",
   "name": "python",
   "nbconvert_exporter": "python",
   "pygments_lexer": "ipython3",
   "version": "3.9.7"
  }
 },
 "nbformat": 4,
 "nbformat_minor": 5
}
