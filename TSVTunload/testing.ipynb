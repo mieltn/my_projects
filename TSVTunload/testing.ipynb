{
 "cells": [
  {
   "cell_type": "markdown",
   "id": "46ae955f",
   "metadata": {},
   "source": [
    "# Using tsvttool.py to download statistics\n",
    "This notebook is an example of usage tsvttool.py. It allows to download TSVT data from [http://stat.customs.ru/unload]().\n",
    "The script also processes statistics by aggregating and encoding charecter repeating strings with numbers to save some memory. \n",
    "\n",
    "Be sure to check all the dependencies needed or run <i>pip install -r requirements.txt</i>. In addition don't forget to download Chrome web-driver to be able to use selenium."
   ]
  },
  {
   "cell_type": "code",
   "execution_count": 1,
   "id": "724d998b",
   "metadata": {},
   "outputs": [],
   "source": [
    "import pandas as pd\n",
    "import time\n",
    "\n",
    "from tsvttool import *"
   ]
  },
  {
   "cell_type": "code",
   "execution_count": 2,
   "id": "5b1ab468",
   "metadata": {},
   "outputs": [],
   "source": [
    "downloads = r'C:\\Users\\###\\Downloads' # set your Downloads folder\n",
    "dest_folder = r'C:\\Users\\###\\Documents\\###\\reports' # set destination folder to save save statistics"
   ]
  },
  {
   "cell_type": "code",
   "execution_count": 16,
   "id": "935f3735",
   "metadata": {},
   "outputs": [],
   "source": [
    "driver = init_driver(downloads, url)"
   ]
  },
  {
   "cell_type": "code",
   "execution_count": 17,
   "id": "343737e7",
   "metadata": {},
   "outputs": [
    {
     "name": "stdout",
     "output_type": "stream",
     "text": [
      "\n",
      "Setting filters for time period.\n",
      "Please, enter the corresponding number to choose one of the options:\n",
      "1 - download the last available month only\n",
      "2 - enter time interval manually\n",
      "\n",
      "        2\n",
      "\n",
      "Please, enter months or time interval needed in the following form:\n",
      "M(M).YYYY, M(M).YYYY\n",
      "or\n",
      "M(M).YYYY-M(M).YYYY\n",
      "\n",
      "            1.2018-4.2021\n"
     ]
    }
   ],
   "source": [
    "period = time_filters()"
   ]
  },
  {
   "cell_type": "code",
   "execution_count": 18,
   "id": "935612c6",
   "metadata": {},
   "outputs": [
    {
     "data": {
      "text/plain": [
       "40"
      ]
     },
     "execution_count": 18,
     "metadata": {},
     "output_type": "execute_result"
    }
   ],
   "source": [
    "len(list(period.keys()))"
   ]
  },
  {
   "cell_type": "code",
   "execution_count": 19,
   "id": "5eb598a0",
   "metadata": {},
   "outputs": [],
   "source": [
    "# downloads, unpacks, processes and saves statistics\n",
    "for m, month in period.items():\n",
    "    download_stat(driver, month, downloads)\n",
    "    move_unzip_rename(m, downloads, dest_folder)\n",
    "    df = dbf_to_csv(dest_folder)\n",
    "    df = prepare_stat(df, dest_folder)\n",
    "    df = add_info_aggregate(df, dest_folder)\n",
    "    df = encode_labels(df, dest_folder)\n",
    "    upload_to_file(df, r'C:\\Users\\###\\Documents\\###\\reports') # enter the folder where the storage file is located\n",
    "    upload_to_sqlite3(df, r'C:\\Users\\###\\Documents\\###\\reports') # enter the folder with sqlite3 database\n",
    "#     time.sleep(30) # don't forget to uncomment if you're downloading many months at once\n",
    "    \n",
    "driver.close()"
   ]
  },
  {
   "cell_type": "code",
   "execution_count": 13,
   "id": "17ae6908",
   "metadata": {},
   "outputs": [],
   "source": [
    "df = pd.read_csv(r'C:\\Users\\###\\Documents\\###\\reports\\TSVTdata.csv')"
   ]
  },
  {
   "cell_type": "code",
   "execution_count": 15,
   "id": "7af5a212",
   "metadata": {},
   "outputs": [
    {
     "data": {
      "text/html": [
       "<div>\n",
       "<style scoped>\n",
       "    .dataframe tbody tr th:only-of-type {\n",
       "        vertical-align: middle;\n",
       "    }\n",
       "\n",
       "    .dataframe tbody tr th {\n",
       "        vertical-align: top;\n",
       "    }\n",
       "\n",
       "    .dataframe thead th {\n",
       "        text-align: right;\n",
       "    }\n",
       "</style>\n",
       "<table border=\"1\" class=\"dataframe\">\n",
       "  <thead>\n",
       "    <tr style=\"text-align: right;\">\n",
       "      <th></th>\n",
       "      <th>period</th>\n",
       "      <th>napr</th>\n",
       "      <th>strana</th>\n",
       "      <th>tnved</th>\n",
       "      <th>Stoim</th>\n",
       "      <th>Netto</th>\n",
       "      <th>Kol</th>\n",
       "      <th>country_groups</th>\n",
       "      <th>branch</th>\n",
       "      <th>n_digits</th>\n",
       "    </tr>\n",
       "  </thead>\n",
       "  <tbody>\n",
       "    <tr>\n",
       "      <th>0</th>\n",
       "      <td>138</td>\n",
       "      <td>1</td>\n",
       "      <td>1</td>\n",
       "      <td>0702000005</td>\n",
       "      <td>66396.36</td>\n",
       "      <td>74030.00</td>\n",
       "      <td>0.00</td>\n",
       "      <td>0</td>\n",
       "      <td>0</td>\n",
       "      <td>10</td>\n",
       "    </tr>\n",
       "    <tr>\n",
       "      <th>1</th>\n",
       "      <td>138</td>\n",
       "      <td>1</td>\n",
       "      <td>1</td>\n",
       "      <td>0810100000</td>\n",
       "      <td>147076.35</td>\n",
       "      <td>72846.00</td>\n",
       "      <td>0.00</td>\n",
       "      <td>0</td>\n",
       "      <td>0</td>\n",
       "      <td>10</td>\n",
       "    </tr>\n",
       "    <tr>\n",
       "      <th>2</th>\n",
       "      <td>138</td>\n",
       "      <td>1</td>\n",
       "      <td>1</td>\n",
       "      <td>2204109801</td>\n",
       "      <td>266922.83</td>\n",
       "      <td>216310.38</td>\n",
       "      <td>99836.25</td>\n",
       "      <td>0</td>\n",
       "      <td>0</td>\n",
       "      <td>10</td>\n",
       "    </tr>\n",
       "    <tr>\n",
       "      <th>3</th>\n",
       "      <td>138</td>\n",
       "      <td>1</td>\n",
       "      <td>1</td>\n",
       "      <td>2204219400</td>\n",
       "      <td>36107.05</td>\n",
       "      <td>18667.20</td>\n",
       "      <td>11667.00</td>\n",
       "      <td>0</td>\n",
       "      <td>0</td>\n",
       "      <td>10</td>\n",
       "    </tr>\n",
       "    <tr>\n",
       "      <th>4</th>\n",
       "      <td>138</td>\n",
       "      <td>1</td>\n",
       "      <td>1</td>\n",
       "      <td>2204219500</td>\n",
       "      <td>10395.16</td>\n",
       "      <td>6653.00</td>\n",
       "      <td>4158.00</td>\n",
       "      <td>0</td>\n",
       "      <td>0</td>\n",
       "      <td>10</td>\n",
       "    </tr>\n",
       "  </tbody>\n",
       "</table>\n",
       "</div>"
      ],
      "text/plain": [
       "   period  napr  strana       tnved      Stoim      Netto       Kol  \\\n",
       "0     138     1       1  0702000005   66396.36   74030.00      0.00   \n",
       "1     138     1       1  0810100000  147076.35   72846.00      0.00   \n",
       "2     138     1       1  2204109801  266922.83  216310.38  99836.25   \n",
       "3     138     1       1  2204219400   36107.05   18667.20  11667.00   \n",
       "4     138     1       1  2204219500   10395.16    6653.00   4158.00   \n",
       "\n",
       "   country_groups  branch  n_digits  \n",
       "0               0       0        10  \n",
       "1               0       0        10  \n",
       "2               0       0        10  \n",
       "3               0       0        10  \n",
       "4               0       0        10  "
      ]
     },
     "execution_count": 15,
     "metadata": {},
     "output_type": "execute_result"
    }
   ],
   "source": [
    "df.head()"
   ]
  },
  {
   "cell_type": "code",
   "execution_count": null,
   "id": "a6614ea6",
   "metadata": {},
   "outputs": [],
   "source": []
  }
 ],
 "metadata": {
  "kernelspec": {
   "display_name": "Python 3",
   "language": "python",
   "name": "python3"
  },
  "language_info": {
   "codemirror_mode": {
    "name": "ipython",
    "version": 3
   },
   "file_extension": ".py",
   "mimetype": "text/x-python",
   "name": "python",
   "nbconvert_exporter": "python",
   "pygments_lexer": "ipython3",
   "version": "3.8.5"
  }
 },
 "nbformat": 4,
 "nbformat_minor": 5
}
